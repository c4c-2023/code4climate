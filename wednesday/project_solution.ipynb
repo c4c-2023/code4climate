{
 "cells": [
  {
   "cell_type": "markdown",
   "metadata": {
    "id": "HP4qOt_N7Zt1"
   },
   "source": [
    "# ***Find all odd squares in a given range***"
   ]
  },
  {
   "cell_type": "code",
   "execution_count": null,
   "metadata": {
    "colab": {
     "base_uri": "https://localhost:8080/"
    },
    "id": "s-b3d4BU7jy6",
    "outputId": "b776bb7a-300b-44d6-fc72-a7637978b431"
   },
   "outputs": [
    {
     "name": "stdout",
     "output_type": "stream",
     "text": [
      "Enter the lower limit: 1\n",
      "Enter the upper limit: 20\n",
      "[1, 9]\n"
     ]
    }
   ],
   "source": [
    "def odd_square_numbers_in_range(start, end):\n",
    "  odd_square_numbers=[]\n",
    "  for num in range(start, end + 1):\n",
    "    if num%2!=0 and int(num**0.5)**2 == num:\n",
    "      odd_square_numbers.append(num)\n",
    "  print(odd_square_numbers)\n",
    "\n",
    "\n",
    "\n",
    "start = int(input(\"Enter the lower limit: \"))\n",
    "end = int(input(\"Enter the upper limit: \"))\n",
    "\n",
    "if start > end:\n",
    "  print(\"invalid intput\")\n",
    "  exit\n",
    "else:\n",
    "  odd_square_numbers_in_range(start,end)\n"
   ]
  },
  {
   "cell_type": "markdown",
   "metadata": {
    "id": "FE9yxZB_JE_k"
   },
   "source": [
    "# ***Find all the prime numbers in a given range***"
   ]
  },
  {
   "cell_type": "code",
   "execution_count": null,
   "metadata": {
    "colab": {
     "base_uri": "https://localhost:8080/"
    },
    "id": "O1gfbSLxJEOS",
    "outputId": "bdbb760a-cdd3-48d6-e2ec-35760ee9aa23"
   },
   "outputs": [
    {
     "name": "stdout",
     "output_type": "stream",
     "text": [
      "Enter the lower limit: 1\n",
      "Enter the upper limit: 20\n",
      "[2, 3, 5, 7, 11, 13, 17, 19]\n"
     ]
    }
   ],
   "source": [
    "def prime_numbers_in_range(start, end):\n",
    "  prime_numbers=[]\n",
    "  for num in range(start, end + 1):\n",
    "    if num > 1:\n",
    "      for i in range(2, num):\n",
    "        if (num % i) == 0:\n",
    "          break\n",
    "      else:\n",
    "        prime_numbers.append(num)\n",
    "  if len(prime_numbers)==0:\n",
    "    print(\"There is no prime number within the given range\")\n",
    "  else:\n",
    "    print(prime_numbers)\n",
    "\n",
    "\n",
    "start = int(input(\"Enter the lower limit: \"))\n",
    "end = int(input(\"Enter the upper limit: \"))\n",
    "\n",
    "if start > end:\n",
    "  print(\"invalid intput\")\n",
    "  exit\n",
    "else:\n",
    "  prime_numbers_in_range(start,end)\n"
   ]
  },
  {
   "cell_type": "markdown",
   "metadata": {
    "id": "5gL5ZiHTmaWB"
   },
   "source": [
    "# ***Find all the armstrong numbers in a given range***"
   ]
  },
  {
   "cell_type": "code",
   "execution_count": null,
   "metadata": {
    "colab": {
     "base_uri": "https://localhost:8080/"
    },
    "id": "jrM76iTgi4yV",
    "outputId": "1ac79cbb-e10b-4203-d7ec-97d3dfae235d"
   },
   "outputs": [
    {
     "name": "stdout",
     "output_type": "stream",
     "text": [
      "Enter the lower limit: 1\n",
      "Enter the upper limit: 1000\n",
      "[1, 2, 3, 4, 5, 6, 7, 8, 9, 153, 370, 371, 407]\n"
     ]
    }
   ],
   "source": [
    "def armstrong_numbers_in_range(start, end):\n",
    "  armstrong_numbers=[]\n",
    "  for num in range(start, end + 1):\n",
    "      order = len(str(num))\n",
    "      sum = 0\n",
    "      temp = num\n",
    "      while temp > 0:\n",
    "          digit = temp % 10\n",
    "          sum = sum + digit ** order\n",
    "          temp = int(temp / 10)\n",
    "\n",
    "      if num == sum:\n",
    "          armstrong_numbers.append(num)\n",
    "  if len(armstrong_numbers)==0:\n",
    "    print(\"There is no armstrong number within the given range\")\n",
    "  else:\n",
    "    print(armstrong_numbers)\n",
    "\n",
    "\n",
    "start = int(input(\"Enter the lower limit: \"))\n",
    "end = int(input(\"Enter the upper limit: \"))\n",
    "\n",
    "if start > end:\n",
    "  print(\"invalid intput\")\n",
    "  exit\n",
    "else:\n",
    "  armstrong_numbers_in_range(start,end)\n"
   ]
  }
 ],
 "metadata": {
  "colab": {
   "provenance": []
  },
  "kernelspec": {
   "display_name": "Python 3",
   "language": "python",
   "name": "python3"
  },
  "language_info": {
   "codemirror_mode": {
    "name": "ipython",
    "version": 3
   },
   "file_extension": ".py",
   "mimetype": "text/x-python",
   "name": "python",
   "nbconvert_exporter": "python",
   "pygments_lexer": "ipython3",
   "version": "3.6.8"
  }
 },
 "nbformat": 4,
 "nbformat_minor": 1
}
