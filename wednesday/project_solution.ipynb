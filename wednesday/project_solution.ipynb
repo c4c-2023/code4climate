{
  "nbformat": 4,
  "nbformat_minor": 0,
  "metadata": {
    "colab": {
      "provenance": []
    },
    "kernelspec": {
      "name": "python3",
      "display_name": "Python 3"
    },
    "language_info": {
      "name": "python"
    }
  },
  "cells": [
    {
      "cell_type": "markdown",
      "source": [
        "# ***Find all odd squares in a given range***"
      ],
      "metadata": {
        "id": "HP4qOt_N7Zt1"
      }
    },
    {
      "cell_type": "code",
      "source": [
        "def odd_square_numbers_in_range(start, end):\n",
        "  odd_square_numbers=[]\n",
        "  for num in range(start, end + 1):\n",
        "    if num%2!=0 and int(num**0.5)**2 == num:\n",
        "      odd_square_numbers.append(num)\n",
        "  print(odd_square_numbers)\n",
        "\n",
        "\n",
        "\n",
        "start = int(input(\"Enter the lower limit: \"))\n",
        "end = int(input(\"Enter the upper limit: \"))\n",
        "\n",
        "if start > end:\n",
        "  print(\"invalid intput\")\n",
        "  exit\n",
        "else:\n",
        "  odd_square_numbers_in_range(start,end)\n"
      ],
      "metadata": {
        "colab": {
          "base_uri": "https://localhost:8080/"
        },
        "id": "s-b3d4BU7jy6",
        "outputId": "b776bb7a-300b-44d6-fc72-a7637978b431"
      },
      "execution_count": null,
      "outputs": [
        {
          "output_type": "stream",
          "name": "stdout",
          "text": [
            "Enter the lower limit: 1\n",
            "Enter the upper limit: 20\n",
            "[1, 9]\n"
          ]
        }
      ]
    },
    {
      "cell_type": "markdown",
      "source": [
        "# ***Find all the prime numbers in a given range***"
      ],
      "metadata": {
        "id": "FE9yxZB_JE_k"
      }
    },
    {
      "cell_type": "code",
      "source": [
        "def prime_numbers_in_range(start, end):\n",
        "  prime_numbers=[]\n",
        "  for num in range(start, end + 1):\n",
        "    if num > 1:\n",
        "      for i in range(2, num):\n",
        "        if (num % i) == 0:\n",
        "          break\n",
        "      else:\n",
        "        prime_numbers.append(num)\n",
        "  if len(prime_numbers)==0:\n",
        "    print(\"There is no prime number within the given range\")\n",
        "  else:\n",
        "    print(prime_numbers)\n",
        "\n",
        "\n",
        "start = int(input(\"Enter the lower limit: \"))\n",
        "end = int(input(\"Enter the upper limit: \"))\n",
        "\n",
        "if start > end:\n",
        "  print(\"invalid intput\")\n",
        "  exit\n",
        "else:\n",
        "  prime_numbers_in_range(start,end)\n"
      ],
      "metadata": {
        "colab": {
          "base_uri": "https://localhost:8080/"
        },
        "id": "O1gfbSLxJEOS",
        "outputId": "bdbb760a-cdd3-48d6-e2ec-35760ee9aa23"
      },
      "execution_count": null,
      "outputs": [
        {
          "output_type": "stream",
          "name": "stdout",
          "text": [
            "Enter the lower limit: 1\n",
            "Enter the upper limit: 20\n",
            "[2, 3, 5, 7, 11, 13, 17, 19]\n"
          ]
        }
      ]
    },
    {
      "cell_type": "markdown",
      "source": [
        "# ***Find all the armstrong numbers in a given range***"
      ],
      "metadata": {
        "id": "5gL5ZiHTmaWB"
      }
    },
    {
      "cell_type": "code",
      "source": [
        "def armstrong_numbers_in_range(start, end):\n",
        "  armstrong_numbers=[]\n",
        "  for num in range(start, end + 1):\n",
        "      order = len(str(num))\n",
        "      sum = 0\n",
        "      temp = num\n",
        "      while temp > 0:\n",
        "          digit = temp % 10\n",
        "          sum = sum + digit ** order\n",
        "          temp = int(temp / 10)\n",
        "\n",
        "      if num == sum:\n",
        "          armstrong_numbers.append(num)\n",
        "  if len(armstrong_numbers)==0:\n",
        "    print(\"There is no armstrong number within the given range\")\n",
        "  else:\n",
        "    print(armstrong_numbers)\n",
        "\n",
        "\n",
        "start = int(input(\"Enter the lower limit: \"))\n",
        "end = int(input(\"Enter the upper limit: \"))\n",
        "\n",
        "if start > end:\n",
        "  print(\"invalid intput\")\n",
        "  exit\n",
        "else:\n",
        "  armstrong_numbers_in_range(start,end)\n"
      ],
      "metadata": {
        "colab": {
          "base_uri": "https://localhost:8080/"
        },
        "outputId": "1ac79cbb-e10b-4203-d7ec-97d3dfae235d",
        "id": "jrM76iTgi4yV"
      },
      "execution_count": null,
      "outputs": [
        {
          "output_type": "stream",
          "name": "stdout",
          "text": [
            "Enter the lower limit: 1\n",
            "Enter the upper limit: 1000\n",
            "[1, 2, 3, 4, 5, 6, 7, 8, 9, 153, 370, 371, 407]\n"
          ]
        }
      ]
    },
    {
      "cell_type": "markdown",
      "source": [
        "# ***The cipher() problem***"
      ],
      "metadata": {
        "id": "anUZX81dmk5C"
      }
    },
    {
      "cell_type": "code",
      "source": [
        "def cypher(string,key):\n",
        "\n",
        "  ciphered_string = []\n",
        "  output_string = \"\"\n",
        "\n",
        "  alphabet='abcdefghijklmnopqrstuvwxyz'\n",
        "  ALPHABET='ABCDEFGHIJKLMNOPQRSTUVWXYZ'\n",
        "  numbers='0123456789'\n",
        "  space=[' ','.',',']\n",
        "  index = 0\n",
        "  for i in string:\n",
        "    for a in alphabet:\n",
        "      if i==a:\n",
        "        for i in range(len(alphabet)):\n",
        "          if alphabet[i]==a:\n",
        "            ciphered_string.append(alphabet[(i+key)%26])\n",
        "    for A in ALPHABET:\n",
        "      if i==A:\n",
        "        for j in range(len(ALPHABET)):\n",
        "          if ALPHABET[j]==A:\n",
        "            ciphered_string.append(ALPHABET[(j+key)%26])\n",
        "    for n in numbers:\n",
        "      if i==n:\n",
        "        for k in range(len(numbers)):\n",
        "          if numbers[k]==n:\n",
        "            ciphered_string.append(numbers[(k+key)%10])\n",
        "\n",
        "    for s in space:\n",
        "      if i==s:\n",
        "        ciphered_string.append(string[index])\n",
        "    index = index + 1\n",
        "\n",
        "  for i in ciphered_string:\n",
        "    output_string=output_string+i\n",
        "  print(\"The cyphered phrase is: \",output_string)\n",
        "\n",
        "input_string=input(\"Enter the phrase: \")\n",
        "key=int(input(\"Enter the cypher key:\"))\n",
        "\n",
        "cypher(input_string,key)\n"
      ],
      "metadata": {
        "colab": {
          "base_uri": "https://localhost:8080/"
        },
        "id": "pJ9zLJS_CPGJ",
        "outputId": "c0cb8c0a-81be-4d17-f15f-4895d15cf380"
      },
      "execution_count": null,
      "outputs": [
        {
          "output_type": "stream",
          "name": "stdout",
          "text": [
            "Enter the phrase: sdf\n",
            "Enter the cypher key:2\n",
            "The cyphered phrase is:  ufh\n"
          ]
        }
      ]
    },
    {
      "cell_type": "code",
      "source": [
        "input_string=input(\"Enter the phrase: \")\n",
        "key=int(input(\"Enter the cypher key:\"))\n",
        "\n",
        "cypher(input_string,key)"
      ],
      "metadata": {
        "colab": {
          "base_uri": "https://localhost:8080/"
        },
        "id": "L8ebN9rio-km",
        "outputId": "874f3de5-d9df-41a3-dab2-cd2dbef85054"
      },
      "execution_count": null,
      "outputs": [
        {
          "output_type": "stream",
          "name": "stdout",
          "text": [
            "Enter the phrase: yhgf\n",
            "Enter the cypher key:1\n",
            "The cyphered phrase is:  zihg\n"
          ]
        }
      ]
    },
    {
      "cell_type": "code",
      "source": [],
      "metadata": {
        "id": "sfAH5vECNh0h"
      },
      "execution_count": null,
      "outputs": []
    }
  ]
}