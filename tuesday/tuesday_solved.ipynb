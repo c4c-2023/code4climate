{
  "cells": [
    {
      "cell_type": "markdown",
      "source": [
        "# ***Topics to be covered:***\n",
        "\n",
        "\n",
        "*   Basic data types and syntax\n",
        "*   Control structures\n",
        "*   Important data structures\n",
        "*   Function declarations\n",
        "\n"
      ],
      "metadata": {
        "id": "6LhNrevdKwO2"
      }
    },
    {
      "cell_type": "markdown",
      "source": [
        "# ***Comments in Our Code:***\n",
        "\n",
        "*Comments are useful for us to understand the code when we look at it at a later time. *\n",
        "\n",
        "`#` *used for in line comments*\n",
        "\n",
        "\n",
        "` ''' Multi-line Comments '''` Remember this only works in python (.py) files and does not work in notebook (.ipynb) files.\n",
        "\n",
        "\n",
        "\n"
      ],
      "metadata": {
        "id": "uOhvU5rtLvi6"
      }
    },
    {
      "cell_type": "code",
      "source": [
        "# This entire line is commented\n",
        "# This line is commented too\n",
        "\n",
        "print(\" anything after # in a single line is commented or ignored by the python program \") # This is commented too\n",
        "\n",
        "\n"
      ],
      "metadata": {
        "id": "UfRN4JHPMihj"
      },
      "execution_count": null,
      "outputs": []
    },
    {
      "cell_type": "markdown",
      "source": [
        "# ***Demonstrate an Example Code***"
      ],
      "metadata": {
        "id": "77XAG8Gpr9-0"
      }
    },
    {
      "cell_type": "code",
      "source": [
        "# Example Code Demonstration\n",
        "# Mad Lib created by Jesus\n",
        "\n",
        "noun1 = input(\"Please enter a noun: \")\n",
        "noun1=str(noun1)\n",
        "pluralnoun1 = input(\"Please enter a plural noun: \")\n",
        "pluralnoun1=str(pluralnoun1)\n",
        "noun2 = input(\"Please enter another noun: \")\n",
        "noun2=str(noun2)\n",
        "pluralnoun2 = input(\"Please enter a different plural noun: \")\n",
        "pluralnoun2=str(pluralnoun2)\n",
        "print(\"Once that's done, I get some \" + pluralnoun1 + \", and then its off to my first \" + noun1 + \".\")\n",
        "#Story\n",
        "print(\"Every day, the mighty \" + noun1 + \" walked across the river known as the Magical River of Life \")\n",
        "print(\"One day, while walking on the river, the scary \" + pluralnoun1 + \" suddenly appeared in a group, and were determined to take down the \" + noun1 + \"!\")\n",
        "print(\"However, to the relief of the \" + noun1 + \", the feared \" + noun2 + \" came to save the day from the \" + pluralnoun1 + \"!\")\n",
        "print(\"Together, with the help of the \" + pluralnoun2 + \", they managed to scare away the \" + pluralnoun1 + \" and save the \" + noun1 + \"!\")"
      ],
      "metadata": {
        "id": "lEaxImbSsDf-"
      },
      "execution_count": null,
      "outputs": []
    },
    {
      "cell_type": "markdown",
      "source": [
        "# ***Variables***\n",
        "\n",
        "*Variables in Python are defined and typed for you when you set a value to them In Python, variable names must follow certain rules:*\n",
        "\n",
        "\n",
        "*   A variable name must start with a letter or the underscore character.\n",
        "*   A variable name cannot start with a number.\n",
        "*   A variable name can only contain alpha-numeric characters and underscores (A-z, 0-9, and _).\n",
        "*   Variable names are case-sensitive (age, Age and AGE are three different variables)\n",
        "\n",
        "\n",
        "\n",
        "---\n",
        "**Always choose variable names so that, the name itself makes sense with what they are going to be used for. Do not choose any variable names so that at a later time when you are looking at the code, you can not get an idea about where that particular variable is used.**\n",
        "\n",
        "\n",
        "Also, do not mix uppercase and lowercase characters when declaring a variable. We recommend using **lowercase characaters**.\n",
        "\n",
        "---\n",
        "\n",
        "\n",
        "\n",
        "*Good variable name selection. Human readable and consistent formating*\n",
        "```\n",
        "noun = 'chair'\n",
        "number_1 = 24\n",
        "year = 2020\n",
        "```\n",
        "\n",
        "*bad variable name selection*\n",
        "```\n",
        "Noun = 'chair'\n",
        "Number1 = 24\n",
        "sdfas = 2020\n",
        "```\n",
        "\n",
        "\n",
        "\n",
        "\n"
      ],
      "metadata": {
        "id": "x_KiWHCTLMZG"
      }
    },
    {
      "cell_type": "code",
      "source": [
        "# Demonstrate some use of variables\n"
      ],
      "metadata": {
        "id": "76gmdCXuQrhM"
      },
      "execution_count": null,
      "outputs": []
    },
    {
      "cell_type": "markdown",
      "source": [
        "# ***`input()` statement***\n",
        "\n",
        "The `input()` function in Python is used to take input from the user. It reads a line of text entered by the user and returns it as a string. The syntax for the `input()` function is as follows:\n",
        "\n",
        "\n",
        "\n",
        "```\n",
        "input([prompt])\n",
        "```\n",
        "Here, the prompt parameter is optional. It is a string that represents a default message before the input. If you want to write a message before the input, you can use this parameter.\n",
        "\n",
        "Here’s an example:\n",
        "\n",
        "\n",
        "\n",
        "```\n",
        "name = input(\"Enter your name: \")\n",
        "print(\"Hello, \", name)\n",
        "\n",
        "```\n",
        "\n",
        "\n",
        "\n"
      ],
      "metadata": {
        "id": "k27CNgN0rO5D"
      }
    },
    {
      "cell_type": "code",
      "source": [
        "# input() statement\n",
        "name = input(\"Enter your name: \")\n",
        "print(\"Hello, \", name)"
      ],
      "metadata": {
        "id": "S8DPHoA3rnSG",
        "colab": {
          "base_uri": "https://localhost:8080/"
        },
        "outputId": "40742136-19f4-477a-b09d-7c0a7d4b1837"
      },
      "execution_count": null,
      "outputs": [
        {
          "output_type": "stream",
          "name": "stdout",
          "text": [
            "Enter your name: Yoda\n",
            "Hello,  Yoda\n"
          ]
        }
      ]
    },
    {
      "cell_type": "markdown",
      "source": [
        "# ***Python Data Types and Syntax***\n",
        "\n",
        "\n",
        "\n",
        "\n",
        "> *Numerical data types:*\n",
        "  * `a = 33` (integer)\n",
        "  * `a = 33.0` (floating point)\n",
        "  * `a = True` (boolean) ---> can only have 2 values, i.e. 1 for True, 0 for False  \n",
        "\n",
        "> *Characters are strings of length one. Lenth of string is equal to the number of the character in the string.*\n",
        "  * `c = \"u\"` or `c = 'u'`\n",
        "\n",
        "> *Check type of variables with `type()`:*\n",
        "  * `type(33) = int`\n",
        "\n"
      ],
      "metadata": {
        "id": "X4CkRm3VSvh6"
      }
    },
    {
      "cell_type": "code",
      "execution_count": null,
      "metadata": {
        "id": "DwKxq9XbKtPi",
        "colab": {
          "base_uri": "https://localhost:8080/"
        },
        "outputId": "d2282f7f-4473-47c6-f8f3-dc9474b57ea6"
      },
      "outputs": [
        {
          "output_type": "stream",
          "name": "stdout",
          "text": [
            "2\n"
          ]
        },
        {
          "output_type": "execute_result",
          "data": {
            "text/plain": [
              "int"
            ]
          },
          "metadata": {},
          "execution_count": 2
        }
      ],
      "source": [
        "my_variable = 2\n",
        "print(my_variable)\n",
        "type(my_variable)"
      ]
    },
    {
      "cell_type": "markdown",
      "metadata": {
        "id": "uPEhGzuFKtPm"
      },
      "source": [
        "\n",
        "***If you accidentally mistype a variable name, Python will not catch it for you. This can lead to bugs that can be hard to track - so beware***"
      ]
    },
    {
      "cell_type": "code",
      "execution_count": null,
      "metadata": {
        "id": "GpBEv90cKtPo",
        "colab": {
          "base_uri": "https://localhost:8080/"
        },
        "outputId": "36eaacf7-98fc-4f70-9d69-8e1e10de59f2"
      },
      "outputs": [
        {
          "output_type": "stream",
          "name": "stdout",
          "text": [
            "2\n"
          ]
        }
      ],
      "source": [
        "my_varible = my_variable+1\n",
        "print(my_variable)\n",
        "\n",
        "# See how the code ran and do not show any errors"
      ]
    },
    {
      "cell_type": "markdown",
      "source": [
        "# ***Practice Problem***\n",
        "*Your neighbor has an apple tree and he gives you some apples. You also have some apples from yesterday. Write a code to calculate the total number of apple you have. The program should ask for number of apples your neighbor gives you and the number of apple you had before.*\n"
      ],
      "metadata": {
        "id": "5lNdOWQScSV5"
      }
    },
    {
      "cell_type": "code",
      "source": [
        "# Apple problem codeblocks\n",
        "\n",
        "number_of_apples_neighbor = int(input(\"Enter the number of apples your neighbor gives you: \"))\n",
        "number_of_apples_mine = int(input(\"Enter the number of apples your already have with you: \"))\n",
        "\n",
        "total_number_of_apples = number_of_apples_neighbor + number_of_apples_mine\n",
        "\n",
        "print(\"Now I have \", total_number_of_apples,\" apples\" )"
      ],
      "metadata": {
        "id": "OwZdDpBtcRn5",
        "colab": {
          "base_uri": "https://localhost:8080/"
        },
        "outputId": "ef864a8c-9e50-4122-a2e1-8d253d6035c3"
      },
      "execution_count": null,
      "outputs": [
        {
          "output_type": "stream",
          "name": "stdout",
          "text": [
            "Enter the number of apples your neighbor gives you: 5\n",
            "Enter the number of apples your already have with you: 6\n",
            "Now I have  11  apples\n"
          ]
        }
      ]
    },
    {
      "cell_type": "markdown",
      "source": [
        "# ***Types and Typecasting***\n",
        "\n",
        "*Typecasting is a mean to convert the type of variable once it is originally assigned.The usual typecasting is available in Python, so it is easy to convert strings to ints or floats, floats to ints, etc.*"
      ],
      "metadata": {
        "id": "I8eKPIEqVHqh"
      }
    },
    {
      "cell_type": "code",
      "source": [
        "# this cell will result in an type error\n",
        "a = \"1\"\n",
        "b = 5\n",
        "print(a+b)"
      ],
      "metadata": {
        "id": "U8UFvEIzUizO",
        "colab": {
          "base_uri": "https://localhost:8080/",
          "height": 207
        },
        "outputId": "349d66d3-188f-4d6b-a3f2-eb93f517fcad"
      },
      "execution_count": null,
      "outputs": [
        {
          "output_type": "error",
          "ename": "TypeError",
          "evalue": "ignored",
          "traceback": [
            "\u001b[0;31m---------------------------------------------------------------------------\u001b[0m",
            "\u001b[0;31mTypeError\u001b[0m                                 Traceback (most recent call last)",
            "\u001b[0;32m<ipython-input-6-3d6f3848b47f>\u001b[0m in \u001b[0;36m<cell line: 4>\u001b[0;34m()\u001b[0m\n\u001b[1;32m      2\u001b[0m \u001b[0ma\u001b[0m \u001b[0;34m=\u001b[0m \u001b[0;34m\"1\"\u001b[0m\u001b[0;34m\u001b[0m\u001b[0;34m\u001b[0m\u001b[0m\n\u001b[1;32m      3\u001b[0m \u001b[0mb\u001b[0m \u001b[0;34m=\u001b[0m \u001b[0;36m5\u001b[0m\u001b[0;34m\u001b[0m\u001b[0;34m\u001b[0m\u001b[0m\n\u001b[0;32m----> 4\u001b[0;31m \u001b[0mprint\u001b[0m\u001b[0;34m(\u001b[0m\u001b[0ma\u001b[0m\u001b[0;34m+\u001b[0m\u001b[0mb\u001b[0m\u001b[0;34m)\u001b[0m\u001b[0;34m\u001b[0m\u001b[0;34m\u001b[0m\u001b[0m\n\u001b[0m",
            "\u001b[0;31mTypeError\u001b[0m: can only concatenate str (not \"int\") to str"
          ]
        }
      ]
    },
    {
      "cell_type": "code",
      "source": [
        "a = \"1\"\n",
        "b = 5\n",
        "print(int(a)+b)"
      ],
      "metadata": {
        "id": "bUbc-BojVgYC",
        "colab": {
          "base_uri": "https://localhost:8080/"
        },
        "outputId": "a7e24651-ad76-4385-8454-2db56caf4dd9"
      },
      "execution_count": null,
      "outputs": [
        {
          "output_type": "stream",
          "name": "stdout",
          "text": [
            "6\n"
          ]
        }
      ]
    },
    {
      "cell_type": "markdown",
      "source": [
        "*Note that the typing is dynamic. I.e. a variable that was initally say an integer can become another type (float, string, etc.) via reassignment.*"
      ],
      "metadata": {
        "id": "PNhji7GNV_NS"
      }
    },
    {
      "cell_type": "code",
      "source": [
        "a = \"1\"\n",
        "type(a)\n",
        "print(type(a))\n",
        "\n",
        "a = 1.0\n",
        "print(type(a))"
      ],
      "metadata": {
        "id": "l0LRgZwCViih",
        "colab": {
          "base_uri": "https://localhost:8080/"
        },
        "outputId": "ac8fdc68-5cf5-4ff8-9178-1e98217d976f"
      },
      "execution_count": null,
      "outputs": [
        {
          "output_type": "stream",
          "name": "stdout",
          "text": [
            "<class 'str'>\n",
            "<class 'float'>\n"
          ]
        }
      ]
    },
    {
      "cell_type": "markdown",
      "source": [
        "*Typecasting is usually required when asking for user input by using the `input()` statement. *\n",
        "\n",
        "\n",
        "\n",
        "```\n",
        "number_1 = int(input(\"Enter a number: \"))\n",
        "number_2 = int(input(\"Enter another number: \"))\n",
        "\n",
        "print(number_1 + number_2)\n",
        "\n",
        "```\n",
        "\n"
      ],
      "metadata": {
        "id": "vqSPnGaqB9CY"
      }
    },
    {
      "cell_type": "markdown",
      "source": [
        "# ***Mathematical & Logical Operators***\n",
        "\n",
        "*   addition, subtraction, multiplication, division:\n",
        "  * `2+2`, `43-5`, `4*3`, `3/2`\n",
        "  * `// `: integer division\n",
        "\n",
        "\n",
        "*   Modulus\n",
        "  * `3%2 = 1`\n",
        "*   exponentiation\n",
        "  * `2**3 = 8`\n",
        "*   logical operators\n",
        "  * `and`, or, `not`\n",
        "  * `== , != , < , <= , > , >=`\n",
        "\n"
      ],
      "metadata": {
        "id": "sC6fmcdcYRhM"
      }
    },
    {
      "cell_type": "code",
      "source": [
        "print(3/4)\n",
        "print(3.0 / 4.0)\n",
        "print(3%4)\n",
        "print(3//4)   # integer division\n",
        "print(3**4)"
      ],
      "metadata": {
        "id": "CUbL3RD_brjM",
        "colab": {
          "base_uri": "https://localhost:8080/"
        },
        "outputId": "15615b28-630d-4940-cc71-aac199eb878d"
      },
      "execution_count": null,
      "outputs": [
        {
          "output_type": "stream",
          "name": "stdout",
          "text": [
            "0.75\n",
            "0.75\n",
            "3\n",
            "0\n",
            "81\n"
          ]
        }
      ]
    },
    {
      "cell_type": "markdown",
      "source": [
        "# ***print() Statement***\n",
        "*Places output on the screen*\n",
        "```\n",
        "i = 34\n",
        "print(i)\n",
        "```\n",
        "*Use comma between variables you want printed on the same line (i.e., comma will suppress a newline)*\n",
        "```\n",
        "i = 3\n",
        "j = 4\n",
        "print(i)\n",
        "print(i,j)\n",
        "```\n",
        "***The print() statement is extremely important for debugging a code. Usually when you write a code, it may contain some mistake. Debugging is finding that error based on the error statement from your compiler.***\n",
        "\n"
      ],
      "metadata": {
        "id": "OX8fJJ3eZz5X"
      }
    },
    {
      "cell_type": "markdown",
      "source": [
        "# ***Practice Problem***\n",
        "\n",
        "*Make a calculator using python, that can obtain two numbers from the user and add them together.*"
      ],
      "metadata": {
        "id": "H7D0kW58XiFY"
      }
    },
    {
      "cell_type": "code",
      "source": [
        "# blocks for writing the calculator code.\n",
        "\n",
        "num_1 = int(input(\"enter first number: \"))\n",
        "num_2 = int(input(\"enter second number: \"))\n",
        "\n",
        "print(\"the summation is \", num_1+num_2)"
      ],
      "metadata": {
        "id": "D4hqJisrX15_",
        "colab": {
          "base_uri": "https://localhost:8080/"
        },
        "outputId": "6f7c639d-e93b-409d-f689-2246c801ecff"
      },
      "execution_count": null,
      "outputs": [
        {
          "output_type": "stream",
          "name": "stdout",
          "text": [
            "enter first number: 5\n",
            "enter second number: 2\n",
            "the summation is  7\n"
          ]
        }
      ]
    },
    {
      "cell_type": "markdown",
      "source": [
        "# ***Practice Problem***\n",
        "\n",
        "*Accept three numbers and print out their average*"
      ],
      "metadata": {
        "id": "stQTvxTkvCm0"
      }
    },
    {
      "cell_type": "code",
      "source": [
        "# blocks for average calculation\n",
        "num_1=int(input(\"First number: \"))\n",
        "num_2=int(input(\"Second number: \"))\n",
        "num_3=int(input(\"Third number: \"))\n",
        "print(\"The average of the three number is: \",(num_1+num_2+num_3)/3 )"
      ],
      "metadata": {
        "id": "lDyTeOohvPZB",
        "colab": {
          "base_uri": "https://localhost:8080/"
        },
        "outputId": "a8671a88-3606-4e63-a54d-831505e3e1bd"
      },
      "execution_count": null,
      "outputs": [
        {
          "output_type": "stream",
          "name": "stdout",
          "text": [
            "First number: 2\n",
            "Second number: 5\n",
            "Third number: 3\n",
            "The average of the three number is:  3.3333333333333335\n"
          ]
        }
      ]
    },
    {
      "cell_type": "markdown",
      "source": [
        "# ***Whitespace matters!***\n",
        "\n",
        "*Python does not use any braces (like {} in C) to separate one code blocks from other. All lines with the same indentation are part of the same block/scope. Therefore, it is absolutely important to avoid any unintentional whitespaces while writing code in python.*\n",
        "\n",
        "The advantage of such approach is that, you need to type less and the code is automatically **made beautifully arranged** by the structure itself."
      ],
      "metadata": {
        "id": "EkryRTCgWVd2"
      }
    },
    {
      "cell_type": "markdown",
      "source": [
        "# ***Conditional Statements***\n",
        "\n",
        "***`if , elif, else`***\n",
        "\n",
        "Nothing remarkable here, just need to learn the syntax. Here, we should also mention spacing. Python is picky about indentation - you must start a newline after each conditional statement and indent the same number of spaces for every statement within the scope of that condition.\n",
        "\n",
        "```\n",
        "a = 20\n",
        "if a >= 22:\n",
        "   print(\"the code is going to if\")\n",
        "elif a >= 21:\n",
        "    print(\"the code is going to elif\")\n",
        "else:\n",
        "    print(\"the code is going else\")\n",
        "```\n",
        "\n",
        "\n",
        "\n",
        "\n"
      ],
      "metadata": {
        "id": "rJpaSF76auw0"
      }
    },
    {
      "cell_type": "code",
      "source": [
        "# if/else/elif code block\n",
        "\n",
        "a = 200\n",
        "b = 33\n",
        "if b > a:\n",
        "  print(\"b is greater than a\")\n",
        "else:\n",
        "  print(\"b is not greater than a\")"
      ],
      "metadata": {
        "id": "tLhXBPVNV9mX",
        "colab": {
          "base_uri": "https://localhost:8080/"
        },
        "outputId": "ee5182f1-2f32-4325-c9bb-4608ae871802"
      },
      "execution_count": null,
      "outputs": [
        {
          "output_type": "stream",
          "name": "stdout",
          "text": [
            "b is not greater than a\n"
          ]
        }
      ]
    },
    {
      "cell_type": "markdown",
      "source": [
        "# ***Practice Problem***\n",
        "\n",
        "*Write a program that ask for a number from the user. But for multiples of\n",
        "three print “Fizz” instead of the number and for the multiples of five print “Buzz”. For numbers which are multiples of both three and five print “FizzBuzz*\n",
        "\n"
      ],
      "metadata": {
        "id": "p9OwUKUWfZ-1"
      }
    },
    {
      "cell_type": "code",
      "source": [],
      "metadata": {
        "id": "OySn-L2Rfm-0"
      },
      "execution_count": null,
      "outputs": []
    },
    {
      "cell_type": "code",
      "source": [
        "# FizzBuzz Codeblock\n",
        "# Remember: The order of the logical operation matters\n",
        "\n",
        "number = int(input(\"Enter your number: \"))\n",
        "\n",
        "if number%15 == 0:\n",
        "  print('FizzBuzz')\n",
        "elif number%5 == 0:\n",
        "  print('Buzz')\n",
        "elif number%3 == 0:\n",
        "  print('Fizz')"
      ],
      "metadata": {
        "id": "ArXvv6QhhR0y",
        "colab": {
          "base_uri": "https://localhost:8080/"
        },
        "outputId": "b78987ec-76c3-46fb-d206-bb4f6bb38e80"
      },
      "execution_count": null,
      "outputs": [
        {
          "output_type": "stream",
          "name": "stdout",
          "text": [
            "Enter your number: 30\n",
            "FizzBuzz\n"
          ]
        }
      ]
    },
    {
      "cell_type": "markdown",
      "source": [
        "# ***Practice Problem***\n",
        "\n",
        "*Write a program to accept percentage from the user and display the grade according to the following criteria:*\n",
        "\n",
        "\n",
        "\n",
        "```\n",
        "Marks               Grades\n",
        " >90                   A\n",
        " >80 and <=90          B\n",
        ">=60 and <=80          C\n",
        "  below 60             D\n",
        "```\n",
        "\n",
        "\n",
        "\n",
        "\n",
        "\n",
        "\n",
        "\n"
      ],
      "metadata": {
        "id": "8_yeEL-oilMN"
      }
    },
    {
      "cell_type": "code",
      "source": [
        "# Grade calculation codeblock\n",
        "grade=float(input(\"Enter your percentage: \"))\n",
        "\n",
        "if grade > 90:\n",
        "  print('A')\n",
        "elif grade >80 and grade<=90:\n",
        "  print('B')\n",
        "elif grade >=60 and grade <=80:\n",
        "  print('C')\n",
        "else:\n",
        "  print('D')\n",
        "\n"
      ],
      "metadata": {
        "id": "OFBgHpNTUTSq",
        "colab": {
          "base_uri": "https://localhost:8080/"
        },
        "outputId": "ae7a14f8-1524-4fdb-dc3a-7bf7b93a8958"
      },
      "execution_count": null,
      "outputs": [
        {
          "output_type": "stream",
          "name": "stdout",
          "text": [
            "Enter your percentage: 98\n",
            "A\n"
          ]
        }
      ]
    },
    {
      "cell_type": "markdown",
      "source": [
        "# ***Practice Problems***\n",
        "\n",
        "*Write a program to check whether an year is leap year or not*\n",
        "\n",
        "\n",
        "\n"
      ],
      "metadata": {
        "id": "LSH-WuK1ih7Z"
      }
    },
    {
      "cell_type": "code",
      "source": [
        "# Leap year code block\n",
        "\n",
        "year = int(input('Enter a year: '))\n",
        "\n",
        "if year%400 == 0:\n",
        "  print(\"leap year\")\n",
        "elif year% 100 == 0:\n",
        "  print(\"not a leap year\")\n",
        "elif year%4 == 0:\n",
        "  print(\"leap year\")\n"
      ],
      "metadata": {
        "id": "AtwE99HbUplZ",
        "colab": {
          "base_uri": "https://localhost:8080/"
        },
        "outputId": "acae2675-316d-4def-f203-197fbadbaaa2"
      },
      "execution_count": null,
      "outputs": [
        {
          "output_type": "stream",
          "name": "stdout",
          "text": [
            "Enter a year: 1944\n",
            "leap year\n"
          ]
        }
      ]
    },
    {
      "cell_type": "markdown",
      "source": [
        "# ***Practice Problem***\n",
        "\n",
        "*Write a program to accept a number from 1 to 7 and display the name of the like 1 for Sunday, 2 for Monday and so on.*\n",
        "\n",
        "\n"
      ],
      "metadata": {
        "id": "X2hRqJPVUvV4"
      }
    },
    {
      "cell_type": "code",
      "source": [
        "# day of the week code block\n",
        "\n",
        "\n",
        "# if we are using strictly if-else statements:\n",
        "\n",
        "user_input=int(input(\"Enter a number between 1 and 7: \"))\n",
        "if user_input == 1:\n",
        "  print('Sunday')\n",
        "elif user_input == 2:\n",
        "  print('Monday')\n",
        "elif user_input == 3:\n",
        "  print('Tuesday')\n",
        "elif user_input == 4:\n",
        "  print('Wednesday')\n",
        "elif user_input == 5:\n",
        "  print('Thursday')\n",
        "elif user_input == 6:\n",
        "  print('Friday')\n",
        "elif user_input == 7:\n",
        "  print('Saturday')\n",
        "else:\n",
        "  print('invalid input')\n",
        "\n",
        "\n",
        "# I will do it using a list construct since you guys already know about it\n",
        "\n",
        "\n",
        "day_of_the_week = ['Sunday','Monday','Tuesday','Wednesday','Thursday','Friday','Saturday']\n",
        "user_input=int(input(\"Enter a number between 1 and 7: \"))\n",
        "if user_input <=7:\n",
        "  print(\" The corresponding day is: \", day_of_the_week[(user_input%7)-1])\n",
        "else:\n",
        "  print('invalid input')\n"
      ],
      "metadata": {
        "id": "MaVe4Zy0V641",
        "colab": {
          "base_uri": "https://localhost:8080/"
        },
        "outputId": "b3ba0345-0be2-4848-d9be-21f53e55195d"
      },
      "execution_count": null,
      "outputs": [
        {
          "output_type": "stream",
          "name": "stdout",
          "text": [
            "Enter a number between 1 and 7: 8\n",
            "invalid input\n",
            "Enter a number between 1 and 7: 8\n",
            "invalid input\n"
          ]
        }
      ]
    },
    {
      "cell_type": "markdown",
      "source": [
        "# ***Practice Problem***\n",
        "\n",
        "*Write a program to find the lowest number out of two number excepted from user*\n",
        "\n",
        "\n",
        "\n"
      ],
      "metadata": {
        "id": "q0g384W5WMpx"
      }
    },
    {
      "cell_type": "code",
      "source": [
        "# Lowest number code block\n",
        "num_1= float(input(\"Enter first number: \"))\n",
        "num_2= float(input(\"Enter second number: \"))\n",
        "if num_1==num_2:\n",
        "  print('both numbers are equal, try again!')\n",
        "elif num_1 < num_2:\n",
        "  print(num_1, 'is the smaller number')\n",
        "else:\n",
        "  print(num_2, 'is the smaller number')"
      ],
      "metadata": {
        "id": "LCIcY5c8Wpcg",
        "colab": {
          "base_uri": "https://localhost:8080/"
        },
        "outputId": "364a17b1-fa97-4215-f0b7-c5dc8a72565b"
      },
      "execution_count": null,
      "outputs": [
        {
          "output_type": "stream",
          "name": "stdout",
          "text": [
            "Enter first number: 1\n",
            "Enter second number: 1\n",
            "both numbers are equal, try again!\n"
          ]
        }
      ]
    },
    {
      "cell_type": "markdown",
      "source": [
        "# ***Practice Problem***\n",
        "\n",
        "*Write a program to check if a number is divisible by 2 and 3 at the same time*\n",
        "\n",
        "\n"
      ],
      "metadata": {
        "id": "VxVTbEMUWsnR"
      }
    },
    {
      "cell_type": "code",
      "source": [
        "# code block for divisibility\n",
        "number = int(input(\"enter a number: \"))\n",
        "if number%6 == 0:\n",
        "  print(\"divisible by 2 and 3 together.\")\n",
        "else:\n",
        "  print(\"not divisible by 2 and 3 together.\")"
      ],
      "metadata": {
        "id": "AEocAJ6TWsAf",
        "colab": {
          "base_uri": "https://localhost:8080/"
        },
        "outputId": "99af64b5-3b16-45e8-e301-12cbdd016d8d"
      },
      "execution_count": null,
      "outputs": [
        {
          "output_type": "stream",
          "name": "stdout",
          "text": [
            "enter a number: 6\n",
            "divisible by 2 and 3 together.\n"
          ]
        }
      ]
    },
    {
      "cell_type": "markdown",
      "source": [
        "# ***Practice Problem***\n",
        "\n",
        "*Calculate the electric bill of a household. The program should ask for the power consumption in KWh (unit of power consumption). The charge of electricity increases incrementally as the usage increases and the rates are as follows:*\n",
        "\n",
        "\n",
        "\n",
        "```\n",
        "Cost[$/kWh]              Usage [kWh]\n",
        "    1                        <50\n",
        "   1.5                  <=50 and <80\n",
        "    2                   <=80 and <200\n",
        "   2.5                    above 200\n",
        "```\n",
        "\n",
        "\n"
      ],
      "metadata": {
        "id": "w5eY95QtXdvx"
      }
    },
    {
      "cell_type": "code",
      "source": [
        "power_consumption = int(input(\"Enter power consumption in KWh: \"))\n",
        "if power_consumption < 50:\n",
        "    cost = power_consumption * 1\n",
        "elif power_consumption >= 50 and power_consumption < 80:\n",
        "    cost = (50 * 1) + ((power_consumption - 50) * 1.5)\n",
        "elif power_consumption >= 80 and power_consumption < 200:\n",
        "    cost = (50 * 1) + (30 * 1.5) + ((power_consumption - 80) * 2)\n",
        "else:\n",
        "    cost = (50 * 1) + (30 * 1.5) + (120 * 2) + ((power_consumption - 200) * 2.5)\n",
        "print(\"The electric bill for {0} KWh is ${1}\".format(power_consumption, cost))  # a different way to print things\n"
      ],
      "metadata": {
        "id": "L41eSeZJXdZy",
        "colab": {
          "base_uri": "https://localhost:8080/"
        },
        "outputId": "bf9d64a8-6d10-413e-dec2-f118ef004c3b"
      },
      "execution_count": null,
      "outputs": [
        {
          "output_type": "stream",
          "name": "stdout",
          "text": [
            "Enter power consumption in KWh: 300\n",
            "The electric bill for 300 KWh is $585.0\n"
          ]
        }
      ]
    },
    {
      "cell_type": "markdown",
      "source": [
        "# ***Lists***\n",
        "\n",
        "Lists are exactly as the name implies. They are lists of objects. The objects can be any data type (including lists), and it is allowed to mix data types. In this way they are much more flexible than arrays. It is possible to append, delete, insert and count elements and to sort, reverse, etc. the list.\n",
        "\n",
        "\n",
        "\n",
        "```\n",
        "a_list = [1,2,3,\"this is a string\",5.3]\n",
        "b_list = [\"A\",\"B\",\"F\",\"G\",\"d\",\"x\",\"c\",a_list,3]\n",
        "print(b_list)\n",
        "print(b_list[7:9])\n",
        "```\n",
        "\n",
        "\n",
        "```\n",
        "a = [1,2,3,4,5,6,7]\n",
        "a.insert(0,0)\n",
        "print(a)\n",
        "a.append(8)\n",
        "print(a)\n",
        "a.reverse()\n",
        "print(a)\n",
        "a.sort()\n",
        "print(a)\n",
        "a.pop()\n",
        "print(a)\n",
        "a.remove(3)\n",
        "print(a)\n",
        "a.remove(a[4])\n",
        "print(a)\n",
        "```\n",
        "\n",
        "***Elements are indexed from 0. Any string is essentially a list***\n",
        "\n",
        "\n"
      ],
      "metadata": {
        "id": "CFaxCt6hg5TL"
      }
    },
    {
      "cell_type": "code",
      "source": [
        "# Demo code block for lists"
      ],
      "metadata": {
        "id": "ronTFR0ThZ2j"
      },
      "execution_count": null,
      "outputs": []
    },
    {
      "cell_type": "markdown",
      "source": [
        "# ***Loops or Iterators***\n",
        "*Python has the usual iterators, while, for, and some other constructions that will be addressed later:*\n",
        "\n",
        "\n",
        "\n",
        "```\n",
        "for i in range(1,10):\n",
        "     print(i)\n",
        "```\n",
        "\n",
        "*`range()` : the range function gives us values up to, but not including, the upper limit.*\n",
        "\n",
        "```\n",
        "i = 1\n",
        "while i < 10:\n",
        "    print(i)\n",
        "    i+=1\n",
        "```\n",
        "\n",
        "`for()` and `while()` essentially do the same things. But depending on the situation one may be more convenient than other\n"
      ],
      "metadata": {
        "id": "c2nZ-2GdeiWQ"
      }
    },
    {
      "cell_type": "code",
      "source": [
        "# Code blocks for loops\n"
      ],
      "metadata": {
        "id": "lWfB15c2fwuZ"
      },
      "execution_count": null,
      "outputs": []
    },
    {
      "cell_type": "markdown",
      "source": [
        "*Lists can be constructed using ‘for’ and some conditional statements. These are called, ‘list comprehensions’. For example:*\n",
        "\n",
        "\n",
        "\n",
        "```\n",
        "even_numbers = [x for x in range(100) if x % 2 == 0]\n",
        "print(even_numbers)\n",
        "```\n",
        "*List comprehensions can work on strings as well:*\n",
        "\n",
        "\n",
        "\n",
        "\n",
        "```\n",
        "first_sentence = \"It was a dark and stormy night.\"\n",
        "characters = [x for x in first_sentence]\n",
        "print(characters)\n",
        "```\n",
        "\n",
        "`len()` can be used to find the number of element in a list.\n",
        "\n",
        "\n",
        "\n",
        "```\n",
        "first_sentence = \"It was a dark and stormy night.\"\n",
        "number_of_character = len(first_sentence)\n",
        "print(number_of_character)\n",
        "```\n",
        "\n",
        "\n"
      ],
      "metadata": {
        "id": "aO8yVSiEiAXU"
      }
    },
    {
      "cell_type": "code",
      "source": [
        "# list demo\n",
        "first_sentence = \"It was a dark and stormy night.\"\n",
        "number_of_character = len(first_sentence)\n",
        "print(number_of_character)"
      ],
      "metadata": {
        "id": "M0GmUb7Vk1tp",
        "colab": {
          "base_uri": "https://localhost:8080/"
        },
        "outputId": "842cc4f7-9143-4b2f-f1bc-5514ac69c9b1"
      },
      "execution_count": null,
      "outputs": [
        {
          "output_type": "stream",
          "name": "stdout",
          "text": [
            "31\n"
          ]
        }
      ]
    },
    {
      "cell_type": "markdown",
      "source": [
        "# ***Practice Problem***\n",
        "\n",
        "*Write a program that prints the numbers from 1 to 100. But for multiples of\n",
        "three print “Fizz” instead of the number and for the multiples of five print “Buzz”. For numbers which are multiples of both three and five print “FizzBuzz\"*\n",
        "\n",
        "\n",
        "\n",
        "```\n",
        "for i in range(1, 101):\n",
        "    if i % 15 == 0:\n",
        "        print(\"FizzBuzz\")\n",
        "    elif i % 3 == 0:\n",
        "        print(\"Fizz\")\n",
        "    elif i % 5 == 0:\n",
        "        print(\"Buzz\")\n",
        "    else:\n",
        "        print(i)\n",
        "```\n",
        "\n",
        "\n"
      ],
      "metadata": {
        "id": "rvJwXWjOhSg2"
      }
    },
    {
      "cell_type": "code",
      "source": [
        "# Fizz Buzz problem\n",
        "\n",
        "for i in range(1, 101):\n",
        "    if i % 15 == 0:\n",
        "        print(\"FizzBuzz\")\n",
        "    elif i % 3 == 0:\n",
        "        print(\"Fizz\")\n",
        "    elif i % 5 == 0:\n",
        "        print(\"Buzz\")\n",
        "    else:\n",
        "        print(i)"
      ],
      "metadata": {
        "id": "S5k9fZu3jLS1",
        "colab": {
          "base_uri": "https://localhost:8080/"
        },
        "outputId": "4b8408d8-343d-4061-85fe-2f8abff4af4d"
      },
      "execution_count": null,
      "outputs": [
        {
          "output_type": "stream",
          "name": "stdout",
          "text": [
            "1\n",
            "2\n",
            "Fizz\n",
            "4\n",
            "Buzz\n",
            "Fizz\n",
            "7\n",
            "8\n",
            "Fizz\n",
            "Buzz\n",
            "11\n",
            "Fizz\n",
            "13\n",
            "14\n",
            "FizzBuzz\n",
            "16\n",
            "17\n",
            "Fizz\n",
            "19\n",
            "Buzz\n",
            "Fizz\n",
            "22\n",
            "23\n",
            "Fizz\n",
            "Buzz\n",
            "26\n",
            "Fizz\n",
            "28\n",
            "29\n",
            "FizzBuzz\n",
            "31\n",
            "32\n",
            "Fizz\n",
            "34\n",
            "Buzz\n",
            "Fizz\n",
            "37\n",
            "38\n",
            "Fizz\n",
            "Buzz\n",
            "41\n",
            "Fizz\n",
            "43\n",
            "44\n",
            "FizzBuzz\n",
            "46\n",
            "47\n",
            "Fizz\n",
            "49\n",
            "Buzz\n",
            "Fizz\n",
            "52\n",
            "53\n",
            "Fizz\n",
            "Buzz\n",
            "56\n",
            "Fizz\n",
            "58\n",
            "59\n",
            "FizzBuzz\n",
            "61\n",
            "62\n",
            "Fizz\n",
            "64\n",
            "Buzz\n",
            "Fizz\n",
            "67\n",
            "68\n",
            "Fizz\n",
            "Buzz\n",
            "71\n",
            "Fizz\n",
            "73\n",
            "74\n",
            "FizzBuzz\n",
            "76\n",
            "77\n",
            "Fizz\n",
            "79\n",
            "Buzz\n",
            "Fizz\n",
            "82\n",
            "83\n",
            "Fizz\n",
            "Buzz\n",
            "86\n",
            "Fizz\n",
            "88\n",
            "89\n",
            "FizzBuzz\n",
            "91\n",
            "92\n",
            "Fizz\n",
            "94\n",
            "Buzz\n",
            "Fizz\n",
            "97\n",
            "98\n",
            "Fizz\n",
            "Buzz\n"
          ]
        }
      ]
    },
    {
      "cell_type": "markdown",
      "source": [
        "# ***Practice Problem***\n",
        "\n",
        "*write a program to print first 10 natural number*"
      ],
      "metadata": {
        "id": "PYjm7rcwjL30"
      }
    },
    {
      "cell_type": "code",
      "source": [
        "# blocks for practice\n",
        "for i in range(1,11):\n",
        "  print(i)"
      ],
      "metadata": {
        "id": "nKTVc74ojhUb",
        "colab": {
          "base_uri": "https://localhost:8080/"
        },
        "outputId": "02320e79-956a-4a86-aa9e-427afd705ee7"
      },
      "execution_count": null,
      "outputs": [
        {
          "output_type": "stream",
          "name": "stdout",
          "text": [
            "1\n",
            "2\n",
            "3\n",
            "4\n",
            "5\n",
            "6\n",
            "7\n",
            "8\n",
            "9\n",
            "10\n"
          ]
        }
      ]
    },
    {
      "cell_type": "markdown",
      "source": [
        "# ***Practice Problem***\n",
        "\n",
        "*write a program to print first 10 even number*"
      ],
      "metadata": {
        "id": "kR54KAunjj3i"
      }
    },
    {
      "cell_type": "code",
      "source": [
        "# blocks for practice\n",
        "for i in range(1,11):\n",
        "  print(2*i)"
      ],
      "metadata": {
        "id": "cChoclbrjl-R",
        "colab": {
          "base_uri": "https://localhost:8080/"
        },
        "outputId": "921ff377-d36a-41c3-b825-439b3ef23d5d"
      },
      "execution_count": null,
      "outputs": [
        {
          "output_type": "stream",
          "name": "stdout",
          "text": [
            "2\n",
            "4\n",
            "6\n",
            "8\n",
            "10\n",
            "12\n",
            "14\n",
            "16\n",
            "18\n",
            "20\n"
          ]
        }
      ]
    },
    {
      "cell_type": "markdown",
      "source": [
        "# ***Practice Problem***\n",
        "\n",
        "*write a program to print first 10 even number in reverse order*"
      ],
      "metadata": {
        "id": "UCkLk71wjoqB"
      }
    },
    {
      "cell_type": "code",
      "source": [
        "# blocks for practice\n",
        "sequence=10\n",
        "while sequence >=1:\n",
        "  print(2*sequence)\n",
        "  sequence=sequence-1"
      ],
      "metadata": {
        "id": "Hxm2I7IyjvSO",
        "colab": {
          "base_uri": "https://localhost:8080/"
        },
        "outputId": "c3261645-5f0a-439c-9550-f6d12c84dc7c"
      },
      "execution_count": null,
      "outputs": [
        {
          "output_type": "stream",
          "name": "stdout",
          "text": [
            "20\n",
            "18\n",
            "16\n",
            "14\n",
            "12\n",
            "10\n",
            "8\n",
            "6\n",
            "4\n",
            "2\n"
          ]
        }
      ]
    },
    {
      "cell_type": "markdown",
      "source": [
        "# ***Practice Problem***\n",
        "\n",
        "*write a program to print table of a number accepted from user*"
      ],
      "metadata": {
        "id": "n5ytkau8jxYX"
      }
    },
    {
      "cell_type": "code",
      "source": [
        "# code blocks for table\n",
        "\n",
        "num = int(input(\"enter a number: \"))\n",
        "\n",
        "for i in range(1,11):\n",
        "  print(num,'x',i,'=',num*i)"
      ],
      "metadata": {
        "id": "KY2lP42ej8PI",
        "colab": {
          "base_uri": "https://localhost:8080/"
        },
        "outputId": "c63f8405-05d6-4560-a853-d504d65b67d8"
      },
      "execution_count": null,
      "outputs": [
        {
          "output_type": "stream",
          "name": "stdout",
          "text": [
            "enter a number: 12\n",
            "12 x 1 = 12\n",
            "12 x 2 = 24\n",
            "12 x 3 = 36\n",
            "12 x 4 = 48\n",
            "12 x 5 = 60\n",
            "12 x 6 = 72\n",
            "12 x 7 = 84\n",
            "12 x 8 = 96\n",
            "12 x 9 = 108\n",
            "12 x 10 = 120\n"
          ]
        }
      ]
    },
    {
      "cell_type": "markdown",
      "source": [
        "# ***Practice Problem***\n",
        "\n",
        "*write a program to find the factorial of a number (the number should be less than 20)*"
      ],
      "metadata": {
        "id": "Or4g7sLDj-70"
      }
    },
    {
      "cell_type": "code",
      "source": [
        "# factorial code block\n",
        "\n",
        "num=int(input('enter a number: '))\n",
        "factorial=1\n",
        "for i in range(1,num+1):\n",
        "  factorial=factorial*i\n",
        "print('the factorial is: ',factorial)\n"
      ],
      "metadata": {
        "id": "1-FzLREXkJnx",
        "colab": {
          "base_uri": "https://localhost:8080/"
        },
        "outputId": "3079f0f5-da5c-48c9-ac5d-faf1b2d2775e"
      },
      "execution_count": null,
      "outputs": [
        {
          "output_type": "stream",
          "name": "stdout",
          "text": [
            "enter a number: 2000\n",
            "the factorial is:  331627509245063324117539338057632403828111720810578039457193543706038077905600822400273230859732592255402352941225834109258084817415293796131386633526343688905634058556163940605117252571870647856393544045405243957467037674108722970434684158343752431580877533645127487995436859247408032408946561507233250652797655757179671536718689359056112815871601717232657156110004214012420433842573712700175883547796899921283528996665853405579854903657366350133386550401172012152635488038268152152246920995206031564418565480675946497051552288205234899995726450814065536678969532101467622671332026831552205194494461618239275204026529722631502574752048296064750927394165856283531779574482876314596450373991327334177263608852490093506621610144459709412707821313732563831572302019949914958316470942774473870327985549674298608839376326824152478834387469595829257740574539837501585815468136294217949972399813599481016556563876034227312912250384709872909626622461971076605931550201895135583165357871492290916779049702247094611937607785165110684432255905648736266530377384650390788049524600712549402614566072254136302754913671583406097831074945282217490781347709693241556111339828051358600690594619965257310741177081519922564516778571458056602185654760952377463016679422488444485798349801548032620829890965857381751888619376692828279888453584639896594213952984465291092009103710046149449915828588050761867924946385180879874512891408019340074625920057098729578599643650655895612410231018690556060308783629110505601245908998383410799367902052076858669183477906558544700148692656924631933337612428097420067172846361939249698628468719993450393889367270487127172734561700354867477509102955523953547941107421913301356819541091941462766417542161587625262858089801222443890248677182054959415751991701271767571787495861619665931878855141835782092601482071777331735396034304969082070589958701381980813035590160762908388574561288217698136182483576739218303118414719133986892842344000779246691209766731651433494437473235636572048844478331854941693030124531676232745367879322847473824485092283139952509732505979127031047683601481191102229253372697693823670057565612400290576043852852902937606479533458179666123839605262549107186663869354766108455046198102084050635827676526589492393249519685954171672419329530683673495544004586359838161043059449826627530605423580755894108278880427825951089880635410567917950974017780688782869810219010900148352061688883720250310665922068601483649830532782088263536558043605686781284169217133047141176312175895777122637584753123517230990549829210134687304205898014418063875382664169897704237759406280877253702265426530580862379301422675821187143502918637636340300173251818262076039747369595202642632364145446851113427202150458383851010136941313034856221916631623892632765815355011276307825059969158824533457435437863683173730673296589355199694458236873508830278657700879749889992343555566240682834763784685183844973648873952475103224222110561201295829657191368108693825475764118886879346725191246192151144738836269591643672490071653428228152661247800463922544945170363723627940757784542091048305461656190622174286981602973324046520201992813854882681951007282869701070737500927666487502174775372742351508748246720274170031581122805896178122160747437947510950620938556674581252518376682157712807861499255876132352950422346387878954850885764466136290394127665978044202092281337987115900896264878942413210454925003566670632909441579372986743421470507213588932019580723064781498429522595589012754823971773325722910325760929790733299545056388362640474650245080809469116072632087494143973000704111418595530278827357654819182002449697761111346318195282761590964189790958117338627206088910432945244978535147014112442143055486089639578378347325323595763291438925288393986256273242862775563140463830389168421633113445636309571965978466338551492316196335675355138403425804162919837822266909521770153175338730284610841886554138329171951332117895728541662084823682817932512931237521541926970269703299477643823386483008871530373405666383868294088487730721762268849023084934661194260180272613802108005078215741006054848201347859578102770707780655512772540501674332396066253216415004808772403047611929032210154385353138685538486425570790795341176519571188683739880683895792743749683498142923292196309777090143936843655333359307820181312993455024206044563340578606962471961505603394899523321800434359967256623927196435402872055475012079854331970674797313126813523653744085662263206768837585132782896252333284341812977624697079543436003492343159239674763638912115285406657783646213911247447051255226342701239527018127045491648045932248108858674600952306793175967755581011679940005249806303763141344412269037034987355799916009259248075052485541568266281760815446308305406677412630124441864204108373119093130001154470560277773724378067188899770851056727276781247198832857695844217588895160467868204810010047816462358220838532488134270834079868486632162720208823308727819085378845469131556021728873121907393965209260229101477527080930865364979858554010577450279289814603688431821508637246216967872282169347370599286277112447690920902988320166830170273420259765671709863311216349502171264426827119650264054228231759630874475301847194095524263411498469508073390080000000000000000000000000000000000000000000000000000000000000000000000000000000000000000000000000000000000000000000000000000000000000000000000000000000000000000000000000000000000000000000000000000000000000000000000000000000000000000000000000000000000000000000000000000000000000000000000000000000000000000000000000000000000000000000000000000000000000000000000000000000000000000000000000000000000000000000000000000000000000000000000000000000000000000000000000000000000000000000000000000000000000000000\n"
          ]
        }
      ]
    },
    {
      "cell_type": "markdown",
      "source": [
        "# ***Practice Problem***\n",
        "\n",
        "*Write a program to calculate the sum of first 10 natural numbers*"
      ],
      "metadata": {
        "id": "lm_02HXxqOXe"
      }
    },
    {
      "cell_type": "code",
      "source": [
        "# sum of numbers\n",
        "sum=0\n",
        "for i in range(1,11):\n",
        "  sum=sum+i\n",
        "print('sum of first 10 natural number is: ',sum)"
      ],
      "metadata": {
        "id": "sNaCrCakqUDC",
        "colab": {
          "base_uri": "https://localhost:8080/"
        },
        "outputId": "40f533f7-88a2-41f9-ba09-66398f599e76"
      },
      "execution_count": null,
      "outputs": [
        {
          "output_type": "stream",
          "name": "stdout",
          "text": [
            "sum of first 10 natural number is:  55\n"
          ]
        }
      ]
    },
    {
      "cell_type": "markdown",
      "source": [
        "# ***Practice Problem***\n",
        "\n",
        "*write a program to find the sum of all digits in a number*"
      ],
      "metadata": {
        "id": "-UrClPNOkPw8"
      }
    },
    {
      "cell_type": "code",
      "source": [
        "# code block for sum of digits\n",
        "num = int(input(\"enter a number: \"))\n",
        "sum=0\n",
        "\n",
        "while(num/10>0):\n",
        "  sum = sum + num%10\n",
        "  num = num // 10     # // gives you ingeger division, i.e. 6/4 = 1 (instead of 1.5)\n",
        "print(\"the sum of digit is: \",sum)\n"
      ],
      "metadata": {
        "id": "TYAs_AG5kPAO",
        "colab": {
          "base_uri": "https://localhost:8080/"
        },
        "outputId": "e4baa7e7-f311-4b53-8286-0d2693511aa1"
      },
      "execution_count": null,
      "outputs": [
        {
          "output_type": "stream",
          "name": "stdout",
          "text": [
            "enter a number: 1253\n",
            "the sum of digit is:  11\n"
          ]
        }
      ]
    },
    {
      "cell_type": "markdown",
      "source": [
        "# ***Practice Problem***\n",
        "\n",
        "*write a program to find if a number is a prime number or not*"
      ],
      "metadata": {
        "id": "K96bx9Aek_Ck"
      }
    },
    {
      "cell_type": "code",
      "source": [
        "# code block for prime numbers\n",
        "\n",
        "num = int(input('Enter a number: '))\n",
        "\n",
        "if num == 1:\n",
        "  print('not a prime number')\n",
        "for i in range(2,num):\n",
        "  if num%i==0:\n",
        "    break\n",
        "if i>=num/2:    # a number cannot be divisible by a number larger than half of\n",
        "                # the original number, i.e. 6 is not divisible by number greater than 3.\n",
        "  print('prime number')\n",
        "else:\n",
        "  print('not a prime numeber')"
      ],
      "metadata": {
        "id": "L0WfxGvtl9ye",
        "colab": {
          "base_uri": "https://localhost:8080/"
        },
        "outputId": "1c314918-0173-4f80-d2f2-3904ee57a0f2"
      },
      "execution_count": null,
      "outputs": [
        {
          "output_type": "stream",
          "name": "stdout",
          "text": [
            "Enter a number: 11\n",
            "prime number\n"
          ]
        }
      ]
    },
    {
      "cell_type": "markdown",
      "source": [
        "3# ***Practice Problem***\n",
        "\n",
        "*Accept 10 numbers from the user and display their average*"
      ],
      "metadata": {
        "id": "Sxj96NGrmAp8"
      }
    },
    {
      "cell_type": "code",
      "source": [
        "sum = 0\n",
        "for i in range(10):\n",
        "  input_value = input('number # '+str(i+1) + ': ')\n",
        "  sum = sum + int(input_value)\n",
        "print(\"The average of the 10 number is : \",sum/10)"
      ],
      "metadata": {
        "id": "hcpggXalmHh7",
        "colab": {
          "base_uri": "https://localhost:8080/"
        },
        "outputId": "ae7926bb-af57-470a-c8c8-c6d7efc6c932"
      },
      "execution_count": null,
      "outputs": [
        {
          "output_type": "stream",
          "name": "stdout",
          "text": [
            "number # 1: 1\n",
            "number # 2: 2\n",
            "number # 3: 3\n",
            "number # 4: 4\n",
            "number # 5: 5\n",
            "number # 6: 6\n",
            "number # 7: 7\n",
            "number # 8: 8\n",
            "number # 9: 9\n",
            "number # 10: 10\n",
            "The average of the 10 number is :  5.5\n"
          ]
        }
      ]
    },
    {
      "cell_type": "markdown",
      "source": [
        "# ***Practice Problem***\n",
        "\n",
        "*write a program to display all the numbers which are divisible by 11 but not by 2 between 100 and 500*"
      ],
      "metadata": {
        "id": "8GJv7kcWmKXo"
      }
    },
    {
      "cell_type": "code",
      "source": [
        "# divisible code block\n",
        "\n",
        "for i in range(100,501):\n",
        "  if i%11 == 0 and i%2 !=0:\n",
        "    print(i)"
      ],
      "metadata": {
        "id": "eKt7ybsymXPm",
        "colab": {
          "base_uri": "https://localhost:8080/"
        },
        "outputId": "9124dd17-5ba0-424f-dd81-fa5df3c54d07"
      },
      "execution_count": null,
      "outputs": [
        {
          "output_type": "stream",
          "name": "stdout",
          "text": [
            "121\n",
            "143\n",
            "165\n",
            "187\n",
            "209\n",
            "231\n",
            "253\n",
            "275\n",
            "297\n",
            "319\n",
            "341\n",
            "363\n",
            "385\n",
            "407\n",
            "429\n",
            "451\n",
            "473\n",
            "495\n"
          ]
        }
      ]
    },
    {
      "cell_type": "markdown",
      "source": [
        "# ***Functions***\n",
        "\n",
        "*A Python function is a block of code that performs a specific task and can be reused in a program. There are two types of functions in Python: built-in functions that are provided by Python itself, and user-defined functions that are created by the programmer. You can define a function using the def keyword, and call it using the function name followed by parentheses. For example:*\n",
        "\n",
        "\n",
        "\n",
        "```\n",
        "def greet():\n",
        "  print(\"Hello from a function\")\n",
        "\n",
        "greet()\n",
        "```\n",
        "\n",
        "\n",
        "```\n",
        "def Division(a, b):\n",
        "    print(a/b)\n",
        "Division(3,4)\n",
        "Division(3.0,4.0)\n",
        "Division(3,4.0)\n",
        "Division(3.0,4)\n",
        "```\n",
        "\n",
        "*The output of a function can also be redirected to a variable.*\n",
        "\n",
        "\n",
        "\n",
        "```\n",
        "def Division(a, b):\n",
        "    return(a/b)\n",
        "result = Division (4,2)\n",
        "print(result)\n",
        "```\n",
        "\n"
      ],
      "metadata": {
        "id": "BP9Z0hd6mdeT"
      }
    },
    {
      "cell_type": "code",
      "source": [
        "# Function Demo"
      ],
      "metadata": {
        "id": "luIoYi5Injm9"
      },
      "execution_count": null,
      "outputs": []
    },
    {
      "cell_type": "markdown",
      "source": [
        "# ***try/except***\n",
        "\n",
        "**Python has another type of conditional expression that is very useful. Suppose your program is processing user input or data from a file. You don’t always know for sure what you are getting in that case, and this can lead to problems. The ‘try/except’ conditional can solve them!**\n",
        "\n",
        "\n",
        "\n",
        "```\n",
        "a = \"1\"\n",
        "try:\n",
        "  b = a + 2\n",
        "except:\n",
        "  print(a, \" is not a number\")\n",
        "```\n",
        "\n",
        "*In a statically typed language, the programmer would have specified the type of a and b (float, int, etc.) and the compiler would have complained about the function being passed a variable of the wrong type. This does not happen here, but we can use the try/except construction.*\n",
        "\n",
        "\n",
        "\n",
        "\n",
        "```\n",
        "def Division(a, b):\n",
        "    try:\n",
        "        print(a/b)\n",
        "    except:\n",
        "        if b == 0:\n",
        "           print(\"cannot divide by zero\")\n",
        "        else:\n",
        "           print(float(a)/float(b))\n",
        "Division(2,\"2\")\n",
        "Division(2,0)\n",
        "```\n",
        "\n"
      ],
      "metadata": {
        "id": "t9MLeg35dX-b"
      }
    },
    {
      "cell_type": "code",
      "source": [
        "# try except code block"
      ],
      "metadata": {
        "id": "G-lZMqfpcibg"
      },
      "execution_count": null,
      "outputs": []
    },
    {
      "cell_type": "markdown",
      "source": [
        "# ***Practice Problem***\n",
        "\n",
        "*Write a function to calculate the area of a rectange*"
      ],
      "metadata": {
        "id": "pFDTU8_Vv9k3"
      }
    },
    {
      "cell_type": "code",
      "source": [
        "# area of rectangle\n",
        "\n",
        "def area_of_rectangle(height, width):\n",
        "  return (height*width)\n",
        "area_of_rectangle(2,4)"
      ],
      "metadata": {
        "id": "3VOGeAy7fL2g",
        "colab": {
          "base_uri": "https://localhost:8080/"
        },
        "outputId": "98b0cea4-f10a-48b5-900f-ccdb24836a29"
      },
      "execution_count": null,
      "outputs": [
        {
          "output_type": "execute_result",
          "data": {
            "text/plain": [
              "8"
            ]
          },
          "metadata": {},
          "execution_count": 7
        }
      ]
    },
    {
      "cell_type": "markdown",
      "source": [
        "# ***Practice Problem***\n",
        "\n",
        "*Write a function that calculates the radius of a sphere from its volume*"
      ],
      "metadata": {
        "id": "X_jFlizfoQ_x"
      }
    },
    {
      "cell_type": "code",
      "source": [
        "# radius calculation\n",
        "\n",
        "def radius_of_sphere(volume):\n",
        "  return (3*volume/(4*3.141592))**(1/3)\n",
        "\n",
        "radius_of_sphere(121)"
      ],
      "metadata": {
        "id": "ZYJVMAWtndcy",
        "colab": {
          "base_uri": "https://localhost:8080/"
        },
        "outputId": "241a3e94-45c8-4de9-80c6-67c2f72b4538"
      },
      "execution_count": null,
      "outputs": [
        {
          "output_type": "execute_result",
          "data": {
            "text/plain": [
              "3.0683079862318214"
            ]
          },
          "metadata": {},
          "execution_count": 9
        }
      ]
    },
    {
      "cell_type": "markdown",
      "source": [
        "# ***Practice Problem***\n",
        "\n",
        "*Write a function that returns the square of any number given to it*"
      ],
      "metadata": {
        "id": "WFOVQKuWpwTL"
      }
    },
    {
      "cell_type": "code",
      "source": [
        "# square problem\n",
        "\n",
        "def square(x):\n",
        "  return x**2\n",
        "square(2)"
      ],
      "metadata": {
        "id": "Jr_sdaRqpr6V",
        "colab": {
          "base_uri": "https://localhost:8080/"
        },
        "outputId": "84ac974b-337f-4c45-d099-a0802aae5baa"
      },
      "execution_count": null,
      "outputs": [
        {
          "output_type": "execute_result",
          "data": {
            "text/plain": [
              "4"
            ]
          },
          "metadata": {},
          "execution_count": 10
        }
      ]
    },
    {
      "cell_type": "markdown",
      "source": [
        "# ***Practice Problem***\n",
        "\n",
        "*Using function calculate the summation of the square of first 10 natural numbers.*"
      ],
      "metadata": {
        "id": "_Oj6MxzOp-Ri"
      }
    },
    {
      "cell_type": "code",
      "source": [
        "# square sum\n",
        "def square(x):\n",
        "  return x**2\n",
        "sum = 0\n",
        "for i in range(1,11):\n",
        "  sum = sum + square(i)\n",
        "print ('sum of the square:', sum)"
      ],
      "metadata": {
        "id": "dP8oHuAPp7Uj",
        "colab": {
          "base_uri": "https://localhost:8080/"
        },
        "outputId": "67a8f578-a92d-4d7d-c8bf-9a88abfe5577"
      },
      "execution_count": null,
      "outputs": [
        {
          "output_type": "stream",
          "name": "stdout",
          "text": [
            "sum of the square: 385\n"
          ]
        }
      ]
    },
    {
      "cell_type": "markdown",
      "source": [
        "# ***Practice Problem***\n",
        "\n",
        "*Write a program to print out the first 10 digits of the Fibonacci sequence. Can you calculate the golden ratio from Fibonacci Sequence*"
      ],
      "metadata": {
        "id": "_EOvNyq9qbvY"
      }
    },
    {
      "cell_type": "code",
      "source": [
        "# Fibonacci sequence\n",
        "import matplotlib.pyplot as plt\n",
        "def fibonacci(n):\n",
        "  a=0\n",
        "  b=1\n",
        "  while(n>0):\n",
        "    c=a+b\n",
        "    a=b\n",
        "    last_term=b\n",
        "    b=c\n",
        "    print(c,end=\" \")\n",
        "    n=n-1\n",
        "  print('\\t =======>', c/last_term)\n",
        "  print('\\n')\n",
        "  return (c/last_term)\n",
        "\n",
        "for i in range(1,21):\n",
        "  plt.scatter (i,fibonacci(i))\n",
        "\n",
        "\n"
      ],
      "metadata": {
        "id": "9JSpZD1tq0Hd",
        "colab": {
          "base_uri": "https://localhost:8080/",
          "height": 1000
        },
        "outputId": "c0df477d-876b-4c13-bbef-f73ae2d192d6"
      },
      "execution_count": null,
      "outputs": [
        {
          "output_type": "stream",
          "name": "stdout",
          "text": [
            "1 \t =======> 1.0\n",
            "\n",
            "\n",
            "1 2 \t =======> 2.0\n",
            "\n",
            "\n",
            "1 2 3 \t =======> 1.5\n",
            "\n",
            "\n",
            "1 2 3 5 \t =======> 1.6666666666666667\n",
            "\n",
            "\n",
            "1 2 3 5 8 \t =======> 1.6\n",
            "\n",
            "\n",
            "1 2 3 5 8 13 \t =======> 1.625\n",
            "\n",
            "\n",
            "1 2 3 5 8 13 21 \t =======> 1.6153846153846154\n",
            "\n",
            "\n",
            "1 2 3 5 8 13 21 34 \t =======> 1.619047619047619\n",
            "\n",
            "\n",
            "1 2 3 5 8 13 21 34 55 \t =======> 1.6176470588235294\n",
            "\n",
            "\n",
            "1 2 3 5 8 13 21 34 55 89 \t =======> 1.6181818181818182\n",
            "\n",
            "\n",
            "1 2 3 5 8 13 21 34 55 89 144 \t =======> 1.6179775280898876\n",
            "\n",
            "\n",
            "1 2 3 5 8 13 21 34 55 89 144 233 \t =======> 1.6180555555555556\n",
            "\n",
            "\n",
            "1 2 3 5 8 13 21 34 55 89 144 233 377 \t =======> 1.6180257510729614\n",
            "\n",
            "\n",
            "1 2 3 5 8 13 21 34 55 89 144 233 377 610 \t =======> 1.6180371352785146\n",
            "\n",
            "\n",
            "1 2 3 5 8 13 21 34 55 89 144 233 377 610 987 \t =======> 1.618032786885246\n",
            "\n",
            "\n",
            "1 2 3 5 8 13 21 34 55 89 144 233 377 610 987 1597 \t =======> 1.618034447821682\n",
            "\n",
            "\n",
            "1 2 3 5 8 13 21 34 55 89 144 233 377 610 987 1597 2584 \t =======> 1.6180338134001253\n",
            "\n",
            "\n",
            "1 2 3 5 8 13 21 34 55 89 144 233 377 610 987 1597 2584 4181 \t =======> 1.618034055727554\n",
            "\n",
            "\n",
            "1 2 3 5 8 13 21 34 55 89 144 233 377 610 987 1597 2584 4181 6765 \t =======> 1.6180339631667064\n",
            "\n",
            "\n",
            "1 2 3 5 8 13 21 34 55 89 144 233 377 610 987 1597 2584 4181 6765 10946 \t =======> 1.6180339985218033\n",
            "\n",
            "\n"
          ]
        },
        {
          "output_type": "display_data",
          "data": {
            "text/plain": [
              "<Figure size 640x480 with 1 Axes>"
            ],
            "image/png": "[encoded data removed]"
          },
          "metadata": {}
        }
      ]
    },
    {
      "cell_type": "code",
      "source": [
        "# We can be creative to do more with funcitons"
      ],
      "metadata": {
        "id": "ekPstcIlqHYw"
      },
      "execution_count": null,
      "outputs": []
    }
  ],
  "metadata": {
    "language_info": {
      "name": "python"
    },
    "orig_nbformat": 4,
    "colab": {
      "provenance": []
    },
    "kernelspec": {
      "name": "python3",
      "display_name": "Python 3"
    }
  },
  "nbformat": 4,
  "nbformat_minor": 0
}